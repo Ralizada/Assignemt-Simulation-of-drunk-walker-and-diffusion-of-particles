{
  "nbformat": 4,
  "nbformat_minor": 0,
  "metadata": {
    "colab": {
      "name": "Exercise_4_Electrical_circuit.ipynb",
      "provenance": [],
      "collapsed_sections": []
    },
    "kernelspec": {
      "name": "python3",
      "display_name": "Python 3"
    }
  },
  "cells": [
    {
      "cell_type": "markdown",
      "metadata": {
        "id": "k91Bk3qb0NBx",
        "colab_type": "text"
      },
      "source": [
        "Consider the following electrical circuits. All the resistors are equivalent. \n",
        "\n",
        "1) Find the equations that link VA, VB, VC and VD. Millmann's theorem might helps you. \n",
        "\n",
        "2) Write a program that solve these equation to compute the value of these four voltages. What will be the value of point A, B, C and D ?\n",
        "\n",
        "3) Which other Python packages could you have used to solve this problem?\n",
        "\n",
        "![circuit](https://drive.google.com/open?id=1ZoZOxwaZP5Ko6yoWuwivqxmIineADK5S)\n"
      ]
    },
    {
      "cell_type": "code",
      "metadata": {
        "id": "VsgiRYlc0ELx",
        "colab_type": "code",
        "colab": {
          "base_uri": "https://localhost:8080/",
          "height": 34
        },
        "outputId": "9d911524-6159-4020-97ce-01799044586b"
      },
      "source": [
        "# -4Va + Vb + Vc + Vd = -15\n",
        "#  Va - 3Vb + 0 + Vd = -15\n",
        "#  Va + 0 - 3Vc + Vd = 0\n",
        "#  Va + Vb + Vc - 4Vd = 0\n",
        "\n",
        "# with numpy\n",
        "import numpy as np\n",
        "\n",
        "a = np.array([[-4, 1, 1, 1], [1, -3, 0, 1], [1, 0, -3, 1], [1, 1, 1, -4]])\n",
        "b = np.array([-15, -15, 0, 0])\n",
        "\n",
        "print(\"Va, Vb, Vc, Vd: \", np.linalg.solve(a,b))"
      ],
      "execution_count": 1,
      "outputs": [
        {
          "output_type": "stream",
          "text": [
            "Va, Vb, Vc, Vd:  [ 9. 10.  5.  6.]\n"
          ],
          "name": "stdout"
        }
      ]
    }
  ]
}