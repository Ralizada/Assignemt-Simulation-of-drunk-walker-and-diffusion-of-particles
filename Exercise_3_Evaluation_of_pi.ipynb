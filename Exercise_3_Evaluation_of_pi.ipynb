{
  "nbformat": 4,
  "nbformat_minor": 0,
  "metadata": {
    "colab": {
      "name": "Exercise_3_Evaluation_of_pi.ipynb",
      "provenance": []
    },
    "kernelspec": {
      "name": "python3",
      "display_name": "Python 3"
    }
  },
  "cells": [
    {
      "cell_type": "markdown",
      "metadata": {
        "id": "z65ChHI8y6VQ",
        "colab_type": "text"
      },
      "source": [
        "Exercise 3 - Evaluation of pi\n",
        "In this exercise we will write a script to estimate π by computing the area of the unitary circle. Two approaches will be compared.\n",
        "\n",
        "1) Integration with trapezoid method\n",
        "\n",
        "Split the [−1;1] range into n stripes (see figure below). Then, calculate the area occupied by the circle in each stripe and by considering it as a trapezoid. Finally, add them together in order to obtain the area of the circle.\n",
        "Do the same for different values of n, such as 10, 100, 1000 ... What is the impact of n on the accuracy of the estimation of π?\n",
        "\n",
        "2) Integration with a stochastic method:\n",
        "\n",
        "Write a script that draws randomly npoints in a square of size 2 centered on (0,0). Then, use the equation of the unitary circle, i.e. x2+y2=1 to count the number of point inside the circle. Finally, use this value to estimate the area of the circle.\n",
        "Do the same for different values of n, such as 10, 100, 1000 ... What is the impact of n on the accuracy of the estimation of π?\n",
        "Method comparison\n",
        "\n",
        "Estimate the computation time for both methods. What is the most efficient method regarding the accuracy and the computation time?"
      ]
    },
    {
      "cell_type": "code",
      "metadata": {
        "id": "2flHxSRjy1OG",
        "colab_type": "code",
        "colab": {
          "base_uri": "https://localhost:8080/",
          "height": 68
        },
        "outputId": "a8a72eda-f622-4c59-b4cc-61c8bd90456c"
      },
      "source": [
        "# Integration with trapezoid method\n",
        "import numpy as np\n",
        "import time\n",
        "\n",
        "\n",
        "def get_y(x):\n",
        "    return np.sqrt(1-x*x)\n",
        "\n",
        "\n",
        "def calculate_trapezoid_area(a1, a2, a3, a4):\n",
        "    base = ((a1[1] - a3[1]) + (a2[1] - a3[1]))/2\n",
        "    height = a2[0] - a1[0]\n",
        "    return base*height\n",
        "\n",
        "\n",
        "n = int(input(\"Enter the number of points to use in approximation: \"))\n",
        "time_start = time.clock()\n",
        "x_coordinates = np.linspace(-1, 1, n+2)\n",
        "y_coordinates = [get_y(x) for x in x_coordinates]\n",
        "\n",
        "total_area = 0\n",
        "for i in range(n+1):\n",
        "    total_area += calculate_trapezoid_area([x_coordinates[i], y_coordinates[i]],\n",
        "                                           [x_coordinates[i+1], y_coordinates[i+1]],\n",
        "                                           [x_coordinates[i], -y_coordinates[i]],\n",
        "                                           [x_coordinates[i+1], y_coordinates[i+1]])\n",
        "print(\"Approximated pi: \", total_area)\n",
        "print(\"Time: \", time.clock() - time_start)"
      ],
      "execution_count": 1,
      "outputs": [
        {
          "output_type": "stream",
          "text": [
            "Enter the number of points to use in approximation: 100\n",
            "Approximated pi:  3.138317737295747\n",
            "Time:  0.001847000000000154\n"
          ],
          "name": "stdout"
        }
      ]
    },
    {
      "cell_type": "code",
      "metadata": {
        "id": "kOMEvii3zLfP",
        "colab_type": "code",
        "colab": {
          "base_uri": "https://localhost:8080/",
          "height": 68
        },
        "outputId": "fc974920-2538-467b-a0de-deffbff1cba6"
      },
      "source": [
        "# Integration with a stochastic method\n",
        "import random\n",
        "import time\n",
        "\n",
        "n = int(input(\"Enter the number of points to use in approximation: \"))\n",
        "# n = 100\n",
        "time_start = time.clock()\n",
        "n_points_inside_circle = 0\n",
        "for i in range(n):\n",
        "    x = random.uniform(-1, 1)\n",
        "    y = random.uniform(-1, 1)\n",
        "    if x*x + y*y <=1:\n",
        "        n_points_inside_circle += 1\n",
        "# print(n_points_inside_circle)\n",
        "print(\"Pi: \", n_points_inside_circle/n*4)\n",
        "print(\"Time: \", time.clock() - time_start)"
      ],
      "execution_count": 2,
      "outputs": [
        {
          "output_type": "stream",
          "text": [
            "Enter the number of points to use in approximation: 100\n",
            "Pi:  3.28\n",
            "Time:  0.0005059999999998954\n"
          ],
          "name": "stdout"
        }
      ]
    },
    {
      "cell_type": "markdown",
      "metadata": {
        "id": "2w8ojMLJzSuc",
        "colab_type": "text"
      },
      "source": [
        "# TO DO: Points vs Time"
      ]
    }
  ]
}